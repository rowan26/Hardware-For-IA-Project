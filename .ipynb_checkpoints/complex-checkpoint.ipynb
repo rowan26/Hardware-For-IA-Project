{
 "cells": [
  {
   "cell_type": "code",
   "execution_count": 1,
   "id": "d3e8afc9",
   "metadata": {},
   "outputs": [],
   "source": [
    "import psutil\n",
    "import os\n",
    "from PIL import Image\n",
    "import struct\n",
    "import numpy as np\n",
    "import cv2"
   ]
  },
  {
   "cell_type": "code",
   "execution_count": 2,
   "id": "85c119f3",
   "metadata": {},
   "outputs": [
    {
     "name": "stdout",
     "output_type": "stream",
     "text": [
      "Consommation de mémoire : 80650240 bits\n",
      "The CPU usage is :  0.0\n"
     ]
    }
   ],
   "source": [
    "def conso_bits():\n",
    "    # Récupération des informations sur le processus en cours\n",
    "    process = psutil.Process()\n",
    "\n",
    "    # Affichage de la consommation de mémoire (en bytes)\n",
    "    print(\"Consommation de mémoire :\", process.memory_info().rss,\"bits\")\n",
    "\n",
    "def CPU():\n",
    "    load1, load5, load15 = psutil.getloadavg()\n",
    "    cpu_usage = (load15/os.cpu_count()) * 100\n",
    "    conso_bits()\n",
    "    print(\"The CPU usage is : \", cpu_usage)\n",
    "CPU()"
   ]
  },
  {
   "cell_type": "code",
   "execution_count": 3,
   "id": "a320f3b0",
   "metadata": {},
   "outputs": [],
   "source": [
    "# # Importing the library\n",
    "# import psutil\n",
    "# # Programme pour générer la suite de Fibonacci en utilisant la récursivité\n",
    "\n",
    "# def fibonacci(n):\n",
    "#     if(n <= 1):\n",
    "#         return n\n",
    "#     else:\n",
    "#         return (fibonacci(n-1) + fibonacci(n-2))\n",
    "\n",
    "# n = int(input(\"Entrez le nombre de termes:\"))\n",
    "\n",
    "# print(\"Suite de Fibonacci en utilisant la recursion :\")\n",
    "# for i in range(n):\n",
    "#     print(fibonacci(i))\n",
    "# # load1, load5, load15 = psutil.getloadavg()\n",
    "# # cpu_usage = (load15/os.cpu_count()) * 100\n",
    "# # print('The CPU usage is: ', cpu_usage)\n",
    "# res_percent = resolution_percent()\n",
    "# print(\"The resolution percentage for your computer is {:.2f}%\".format(res_percent))"
   ]
  },
  {
   "cell_type": "markdown",
   "id": "36b6babb",
   "metadata": {},
   "source": [
    "# la fonction \"resize_it\" permet de modifier la résolution d'une image"
   ]
  },
  {
   "cell_type": "code",
   "execution_count": 4,
   "id": "0fdc668f",
   "metadata": {},
   "outputs": [],
   "source": [
    "def resize_it(path_image_start,path_image_end,width_,height_):\n",
    "\n",
    "    # Charger l'image\n",
    "    image = Image.open(path_image_start)\n",
    "\n",
    "    # Définir la résolution souhaitée\n",
    "    width, height = (width_, height_)\n",
    "\n",
    "    # Redimensionner l'image en conservant la qualité\n",
    "    image = image.resize((width, height), Image.ANTIALIAS)\n",
    "\n",
    "    # Enregistrer l'image avec la nouvelle résolution\n",
    "    image.save(path_image_end)\n"
   ]
  },
  {
   "cell_type": "markdown",
   "id": "87b4784f",
   "metadata": {},
   "source": [
    "# la fonction \" resolution_and_complexity\" permet de comparer les résolutions entre les deux images; ainsi de pouvoir montrer la diminution de la complexité des calculs"
   ]
  },
  {
   "cell_type": "code",
   "execution_count": 5,
   "id": "f23a7d63",
   "metadata": {},
   "outputs": [
    {
     "name": "stderr",
     "output_type": "stream",
     "text": [
      "C:\\Users\\rowan\\AppData\\Local\\Temp/ipykernel_10576/546592251.py:10: DeprecationWarning: ANTIALIAS is deprecated and will be removed in Pillow 10 (2023-07-01). Use Resampling.LANCZOS instead.\n",
      "  image = image.resize((width, height), Image.ANTIALIAS)\n"
     ]
    }
   ],
   "source": [
    "\n",
    "resize_it(\"Gull_BGR.jpg\",\"image_resized.jpg\",800,800)\n",
    "\n",
    "def resolution_and_complexity(image_original,image_resize) :\n",
    "  # Charger l'image\n",
    "  image = cv2.imread(image_original)\n",
    "  image_resized=cv2.imread(image_resize)\n",
    "\n",
    "  # Calcul de la taille de l'image_resized en bits\n",
    "  image_size = image_resized.size * image_resized.itemsize\n",
    "  num_bits = struct.calcsize(\"P\") * 8\n",
    "  resolution = image_size * num_bits\n",
    "\n",
    "  # Calcul de la réduction de complexité des calculs\n",
    "  original_complexity = image.size * num_bits\n",
    "  print(original_complexity)\n",
    "  new_complexity = resolution\n",
    "  reduction_percent = (original_complexity - new_complexity) / original_complexity * 100\n",
    "\n",
    "  # Affichage des résultats\n",
    "  print(\"La résolution en bits nécessaire pour cette image est de :\", resolution)\n",
    "  print(\"Cela implique une réduction de\", reduction_percent, \"% de la complexité des calculs.\")\n",
    "\n",
    "  CPU()\n",
    "  "
   ]
  },
  {
   "cell_type": "code",
   "execution_count": 6,
   "id": "b8b541b0",
   "metadata": {},
   "outputs": [
    {
     "name": "stdout",
     "output_type": "stream",
     "text": [
      "743325696\n",
      "La résolution en bits nécessaire pour cette image est de : 122880000\n",
      "Cela implique une réduction de 83.46888844805925 % de la complexité des calculs.\n",
      "Consommation de mémoire : 95744000 bits\n",
      "The CPU usage is :  1.375\n"
     ]
    }
   ],
   "source": [
    "resolution_and_complexity(\"Gull_BGR.jpg\",\"image_resized.jpg\")"
   ]
  },
  {
   "cell_type": "markdown",
   "id": "c0a3bbd5",
   "metadata": {},
   "source": [
    "# La fonction \"transform_BGR2GRAY\" permet de transformer et de sauvegarder une image en nuance de gris"
   ]
  },
  {
   "cell_type": "code",
   "execution_count": 7,
   "id": "8925a50f",
   "metadata": {},
   "outputs": [],
   "source": [
    "def transform_BGR2GRAY(image_start,image_end) :   \n",
    "    image = cv2.imread(image_start)\n",
    "    gray_image = cv2.cvtColor(image, cv2.COLOR_BGR2GRAY)\n",
    "    cv2.imwrite(image_end, gray_image)\n"
   ]
  },
  {
   "cell_type": "code",
   "execution_count": 8,
   "id": "c0e6b8a8",
   "metadata": {},
   "outputs": [
    {
     "name": "stdout",
     "output_type": "stream",
     "text": [
      "743325696\n",
      "La résolution en bits nécessaire pour cette image est de : 122880000\n",
      "Cela implique une réduction de 83.46888844805925 % de la complexité des calculs.\n",
      "Consommation de mémoire : 96825344 bits\n",
      "The CPU usage is :  2.0\n"
     ]
    }
   ],
   "source": [
    "transform_BGR2GRAY(\"Gull_BGR.jpg\",\"Gull_gray.jpg\")\n",
    "resolution_and_complexity(\"Gull_gray.jpg\",\"image_resized.jpg\")"
   ]
  },
  {
   "cell_type": "markdown",
   "id": "a9862de5",
   "metadata": {},
   "source": [
    "# La fonction \"difference_reso_color\" permet de montrer que la résolution entre une image en couleur et une en nuance de gris n'est pas la meme ainsi, cela affecte également la complexité des calculs\n"
   ]
  },
  {
   "cell_type": "code",
   "execution_count": 11,
   "id": "74a62c52",
   "metadata": {},
   "outputs": [],
   "source": [
    "\n",
    "def difference_reso_color(image_start,image_end):\n",
    "\n",
    "    image_couleur = cv2.imread(image_start)\n",
    "\n",
    "    image_gris = cv2.cvtColor(image_couleur, cv2.COLOR_BGR2GRAY)\n",
    "    \n",
    "\n",
    "    image_size = image_couleur.size * image_couleur.itemsize\n",
    "    num_bits = struct.calcsize(\"P\") * 8\n",
    "    resolution_couleur = image_size * num_bits\n",
    "\n",
    "    image_size = image_gris.size * image_gris.itemsize\n",
    "    num_bits = struct.calcsize(\"P\") * 8\n",
    "    resolution_gris = image_size * num_bits\n",
    "\n",
    "    reduction = (resolution_couleur - resolution_gris) / resolution_couleur * 100\n",
    "    CPU()\n",
    "    print(\"La résolution de l'image en couleur est de {} bits\".format(resolution_couleur))\n",
    "    print(\"La résolution de l'image en nuance de gris est de {} bits\".format(resolution_gris))\n",
    "    print(\"La réduction de la complexité des calculs est de {:.2f}%\".format(reduction))\n",
    "    print(\"\\n\")\n",
    "    "
   ]
  },
  {
   "cell_type": "code",
   "execution_count": 10,
   "id": "0a0816f4",
   "metadata": {},
   "outputs": [
    {
     "name": "stdout",
     "output_type": "stream",
     "text": [
      "Consommation de mémoire : 85970944 bits\n",
      "The CPU usage is :  2.0\n",
      "La résolution de l'image en couleur est de 122880000 bits\n",
      "La résolution de l'image en nuance de gris est de 40960000 bits\n",
      "La réduction de la complexité des calculs est de 66.67%\n",
      "\n",
      "\n",
      "Consommation de mémoire : 99586048 bits\n",
      "The CPU usage is :  2.0\n",
      "La résolution de l'image en couleur est de 743325696 bits\n",
      "La résolution de l'image en nuance de gris est de 247775232 bits\n",
      "La réduction de la complexité des calculs est de 66.67%\n",
      "\n",
      "\n"
     ]
    }
   ],
   "source": [
    "transform_BGR2GRAY(\"image_resized.jpg\",\"image_res_gray.jpg\")\n",
    "\n",
    "difference_reso_color(\"image_resized.jpg\",\"image_res_gray.jpg\")\n",
    "difference_reso_color(\"Gull_BGR.jpg\",\"Gull_gray.jpg\")\n"
   ]
  },
  {
   "cell_type": "markdown",
   "id": "80e14f94",
   "metadata": {},
   "source": [
    "### cela réduit la compléxité de 67 pourcent, car il y a un octet par pixel dans une image en nuance de gris et 3 octets par pixel dans une image en RGB "
   ]
  },
  {
   "cell_type": "code",
   "execution_count": null,
   "id": "1eb4103c",
   "metadata": {},
   "outputs": [],
   "source": []
  }
 ],
 "metadata": {
  "kernelspec": {
   "display_name": "Python 3 (ipykernel)",
   "language": "python",
   "name": "python3"
  },
  "language_info": {
   "codemirror_mode": {
    "name": "ipython",
    "version": 3
   },
   "file_extension": ".py",
   "mimetype": "text/x-python",
   "name": "python",
   "nbconvert_exporter": "python",
   "pygments_lexer": "ipython3",
   "version": "3.8.11"
  }
 },
 "nbformat": 4,
 "nbformat_minor": 5
}
